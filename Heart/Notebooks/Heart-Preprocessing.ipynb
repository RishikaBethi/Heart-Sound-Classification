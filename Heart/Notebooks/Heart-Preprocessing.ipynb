{
 "cells": [
  {
   "cell_type": "code",
   "execution_count": 1,
   "id": "1cab17b6",
   "metadata": {},
   "outputs": [],
   "source": [
    "import matplotlib\n",
    "matplotlib.use('Agg')\n",
    "import matplotlib.pyplot as plt\n",
    "import numpy as np\n",
    "import librosa\n",
    "import wave\n",
    "import pandas as pd\n",
    "import soundfile as sf\n",
    "import librosa.display\n",
    "from PIL import Image\n",
    "import os\n",
    "import tensorflow as tf\n",
    "import scipy.signal as signal\n",
    "\n",
    "cutoff_frequency = 195\n",
    "sampling_rate=44100"
   ]
  },
  {
   "cell_type": "code",
   "execution_count": 2,
   "id": "84494e5c",
   "metadata": {},
   "outputs": [],
   "source": [
    "def apply_low_pass_filter(audio, sampling_rate, cutoff_freq):\n",
    "    nyquist_freq = 0.5 * sampling_rate\n",
    "    normalized_cutoff_freq = cutoff_freq / nyquist_freq\n",
    "    b, a = signal.butter(4, normalized_cutoff_freq, btype='low', analog=False)\n",
    "    denoised_audio = signal.lfilter(b, a, audio)\n",
    "    return denoised_audio"
   ]
  },
  {
   "cell_type": "code",
   "execution_count": null,
   "id": "81622b47",
   "metadata": {},
   "outputs": [],
   "source": [
    "def downsample_audio(audio,original_sampling_rate,target_sampling_rate):\n",
    "    resampled_audio = librosa.resample(audio, orig_sr=original_sampling_rate, target_sr=target_sampling_rate)\n",
    "    return resampled_audio"
   ]
  },
  {
   "cell_type": "code",
   "execution_count": null,
   "id": "d4893b29",
   "metadata": {},
   "outputs": [],
   "source": [
    "def split_audio(audio, segment_length):\n",
    "    num_segments = len(audio) // segment_length\n",
    "    segments = [audio[i*segment_length:(i+1)*segment_length] for i in range(num_segments)]\n",
    "    return segments"
   ]
  },
  {
   "cell_type": "code",
   "execution_count": null,
   "id": "586aaa50",
   "metadata": {},
   "outputs": [],
   "source": [
    "time_shift_factor = 1\n",
    "pitch_shift_steps = -0.5\n",
    "\n",
    "def apply_pitch_shift(audio, target_sampling_rate, pitch_shift):\n",
    "    audio_float = audio.astype(np.float32)  # Remove the normalization step\n",
    "    shifted_audio = librosa.effects.pitch_shift(audio_float, sr=target_sampling_rate, n_steps=pitch_shift)\n",
    "    return shifted_audio\n",
    "\n",
    "def apply_time_shift(audio, time_shift):\n",
    "    shifted_audio = np.roll(audio, int(time_shift))  # Convert the time shift to an integer\n",
    "    return shifted_audio"
   ]
  },
  {
   "cell_type": "code",
   "execution_count": null,
   "id": "a1144468",
   "metadata": {},
   "outputs": [],
   "source": [
    "#Augmented-A\n",
    "\n",
    "def audioAugment(root_directory, output_folder):\n",
    "    # Iterate through subdirectories and files in the root directory\n",
    "    for folder_name, subfolders, filenames in os.walk(root_directory):\n",
    "        # Iterate through audio files in the current folder\n",
    "\n",
    "        for filename in filenames:\n",
    "            # Check if the file has an audio extension (e.g., .wav, .mp3, etc.)\n",
    "            if filename.lower().endswith(('.wav')):\n",
    "                # Construct the full path to the audio file\n",
    "                audio_path = os.path.join(folder_name, filename)\n",
    "                \n",
    "                audio, sampling_rate = librosa.load(audio_path, sr=None)\n",
    "\n",
    "                # Denoising\n",
    "                cutoff_frequency = 195\n",
    "                denoised_audio = apply_low_pass_filter(audio, sampling_rate, cutoff_frequency)\n",
    "\n",
    "                # Downsampling\n",
    "                target_sampling_rate = sampling_rate // 10\n",
    "                downsampled_audio = downsample_audio(denoised_audio, sampling_rate, target_sampling_rate)\n",
    "\n",
    "                # Splitting audio\n",
    "                segment_length = target_sampling_rate * 3\n",
    "                segments = split_audio(downsampled_audio, segment_length)\n",
    "                \n",
    "                time_shifted_segments = [apply_time_shift(segment, time_shift_factor) for segment in segments]\n",
    "\n",
    "                for i, segment in enumerate(time_shifted_segments):\n",
    "                    output_path=os.path.join(output_folder,'time_{}_{}'.format(i,filename))\n",
    "                    sf.write(output_path, segment, target_sampling_rate)\n",
    "                    \n",
    "                pitch_shifted_segments = [apply_pitch_shift(segment, target_sampling_rate, pitch_shift_steps) for segment in segments]\n",
    "                \n",
    "                for i, segment in enumerate(pitch_shifted_segments):\n",
    "                    output_path=os.path.join(output_folder,'pitch_{}_{}'.format(i,filename))\n",
    "                    sf.write(output_path, segment, target_sampling_rate)"
   ]
  },
  {
   "cell_type": "code",
   "execution_count": null,
   "id": "4e4658c5",
   "metadata": {},
   "outputs": [],
   "source": [
    "import os\n",
    "from scipy.io import wavfile\n",
    "import soundfile as sf\n",
    "\n",
    "def audioSplit(root_directory, output_folder):\n",
    "    # Iterate through audio files in the root directory\n",
    "    for folder_name, subfolders, filenames in os.walk(root_directory):\n",
    "        # Check if the file has an audio extension (e.g., .wav, .mp3, etc.)\n",
    "        for filename in filenames:\n",
    "            \n",
    "            if filename.lower().endswith(('.wav')):\n",
    "                # Construct the full path to the audio file\n",
    "                audio_path = os.path.join(root_directory, filename)\n",
    "\n",
    "                audio, sampling_rate = librosa.load(audio_path, sr=None)\n",
    "\n",
    "                # Denoising\n",
    "                cutoff_frequency = 195\n",
    "                denoised_audio = apply_low_pass_filter(audio, sampling_rate, cutoff_frequency)\n",
    "\n",
    "                # Downsampling\n",
    "                target_sampling_rate = sampling_rate // 10\n",
    "                downsampled_audio = downsample_audio(denoised_audio, sampling_rate, target_sampling_rate)\n",
    "\n",
    "                # Splitting audio\n",
    "                segment_length = target_sampling_rate * 3\n",
    "                segments = split_audio(downsampled_audio, segment_length)\n",
    "        \n",
    "                # Write the segments to the output folder\n",
    "                for i, segment in enumerate(segments):\n",
    "                    segment_filename = f\"segment_{i}_{filename}\"\n",
    "                    segment_path = os.path.join(output_folder, segment_filename)\n",
    "                    sf.write(segment_path, segment, target_sampling_rate)"
   ]
  },
  {
   "cell_type": "code",
   "execution_count": null,
   "id": "8cf6d50a",
   "metadata": {},
   "outputs": [],
   "source": [
    "#Augmented-A & Split-A/Atraining_artifact\n",
    "root_directory='/Users/rishikabethi/Desktop/Heart/Dataset_A/Atraining_artifact'\n",
    "output_folder='/Users/rishikabethi/Desktop/Heart/Dataset_A/Augmented-A/Atraining_artifact'\n",
    "output_folder1='/Users/rishikabethi/Desktop/Heart/Dataset_A/Split-A/Atraining_artifact'\n",
    "audioAugment(root_directory, output_folder)\n",
    "audioSplit(root_directory, output_folder1)"
   ]
  },
  {
   "cell_type": "code",
   "execution_count": null,
   "id": "7b76bb17",
   "metadata": {},
   "outputs": [],
   "source": [
    "#Augmented-A & Split-A/Atraining_extrahls\n",
    "root_directory='/Users/rishikabethi/Desktop/Heart/Dataset_A/Atraining_extrahls'\n",
    "output_folder='/Users/rishikabethi/Desktop/Heart/Dataset_A/Augmented-A/Atraining_extrahls'\n",
    "output_folder1='/Users/rishikabethi/Desktop/Heart/Dataset_A/Split-A/Atraining_extrahls'\n",
    "audioAugment(root_directory, output_folder)\n",
    "audioSplit(root_directory, output_folder1)"
   ]
  },
  {
   "cell_type": "code",
   "execution_count": null,
   "id": "3086dc18",
   "metadata": {},
   "outputs": [],
   "source": [
    "#Augmented-A & Split-A/Atraining_murmur\n",
    "root_directory='/Users/rishikabethi/Desktop/Heart/Dataset_A/Atraining_murmur'\n",
    "output_folder='/Users/rishikabethi/Desktop/Heart/Dataset_A/Augmented-A/Atraining_murmur'\n",
    "output_folder1='/Users/rishikabethi/Desktop/Heart/Dataset_A/Split-A/Atraining_murmur'\n",
    "audioAugment(root_directory, output_folder)\n",
    "audioSplit(root_directory, output_folder1)"
   ]
  },
  {
   "cell_type": "code",
   "execution_count": null,
   "id": "b850968c",
   "metadata": {},
   "outputs": [],
   "source": [
    "#Augmented-A & Split-A/Atraining_normal\n",
    "root_directory='/Users/rishikabethi/Desktop/Heart/Dataset_A/Atraining_normal'\n",
    "output_folder='/Users/rishikabethi/Desktop/Heart/Dataset_A/Augmented-A/Atraining_normal'\n",
    "output_folder1='/Users/rishikabethi/Desktop/Heart/Dataset_A/Split-A/Atraining_normal'\n",
    "audioAugment(root_directory, output_folder)\n",
    "audioSplit(root_directory, output_folder1)"
   ]
  },
  {
   "cell_type": "code",
   "execution_count": null,
   "id": "8cb78f6f",
   "metadata": {},
   "outputs": [],
   "source": [
    "def time_warp(spec, W=5):\n",
    "    num_bins, num_frames = spec.shape\n",
    "    spec_aug = np.copy(spec)\n",
    "\n",
    "    # Generate random control points for time warping\n",
    "    control_points = [(0, 0), (num_bins-1, num_frames-1)]\n",
    "    for _ in range(W):\n",
    "        random_point = np.random.randint(1, num_bins-1)\n",
    "        control_points.append((random_point, np.random.randint(0, num_frames-1)))\n",
    "\n",
    "    # Apply time warping\n",
    "    for i in range(len(control_points)-1):\n",
    "        c1, c2 = control_points[i], control_points[i+1]\n",
    "        spec_aug[c1[0]:c2[0]+1, :] = np.roll(spec[c1[0]:c2[0]+1, :], c2[1] - c1[1], axis=1)\n",
    "\n",
    "    return spec_aug\n",
    "\n",
    "def frequency_mask(spec, F=30, num_masks=2):\n",
    "    spec_aug = np.copy(spec)\n",
    "\n",
    "    # Apply frequency masking\n",
    "    num_bins, num_frames = spec.shape\n",
    "    for _ in range(num_masks):\n",
    "        f = np.random.randint(0, F)\n",
    "        f0 = np.random.randint(0, num_bins - f)\n",
    "        spec_aug[f0:f0+f, :] = 0\n",
    "\n",
    "    return spec_aug"
   ]
  },
  {
   "cell_type": "code",
   "execution_count": null,
   "id": "6f2d5c88",
   "metadata": {},
   "outputs": [],
   "source": [
    "#SpecAugment-A\n",
    "def SpecAugment(root_directory, output_folder):\n",
    "    # Iterate through subdirectories and files in the root directory\n",
    "    for folder_name, subfolders, filenames in os.walk(root_directory):\n",
    "        # Iterate through audio files in the current folder\n",
    "\n",
    "        for filename in filenames:\n",
    "            if filename.lower().endswith(('.wav')):\n",
    "#                 Construct the full path to the audio file\n",
    "                audio_path = os.path.join(folder_name, filename)\n",
    "                # Load audio file\n",
    "                audio, sr = librosa.load(audio_path, sr=None)\n",
    "                \n",
    "                target_sampling_rate=sr//10\n",
    "                # Compute spectrogram\n",
    "                spectrogram = librosa.feature.melspectrogram(y=audio, sr=target_sampling_rate, n_fft=2048, hop_length=512, n_mels=128)\n",
    "                spectrogram_db = librosa.power_to_db(spectrogram, ref=np.max)\n",
    "                \n",
    "                # Normalize the spectrogram to values between 0 and 1\n",
    "                spectrogram_normalized = (spectrogram_db - np.min(spectrogram_db)) / (np.max(spectrogram_db) - np.min(spectrogram_db))\n",
    "\n",
    "                # Scale the spectrogram to values between 1 and 255\n",
    "                spectrogram_scaled = spectrogram_normalized * 255\n",
    "                \n",
    "                # Apply time warping\n",
    "                time_warped_spectrogram = time_warp(spectrogram_scaled)\n",
    "\n",
    "                # Generate frequency-masked spectrograms\n",
    "                frequency_masked_spectrogram_1 = frequency_mask(spectrogram_scaled)\n",
    "                frequency_masked_spectrogram_2 = frequency_mask(spectrogram_scaled)\n",
    "                \n",
    "                fig, ax = plt.subplots(figsize=(1.28,1.28))\n",
    "                \n",
    "                img1=librosa.display.specshow(time_warped_spectrogram, sr=sr)\n",
    "                plt.savefig(os.path.join(output_folder,'time_{}.png'.format(filename[:-4])),transparent=True)\n",
    "                \n",
    "                img2=librosa.display.specshow(frequency_masked_spectrogram_1, sr=sr)\n",
    "                plt.savefig(os.path.join(output_folder,'freq_{}.png'.format(filename[:-4])),transparent=True)\n",
    "                \n",
    "                img3=librosa.display.specshow(frequency_masked_spectrogram_2, sr=sr)\n",
    "                plt.savefig(os.path.join(output_folder,'freq2_{}.png'.format(filename[:-4])),transparent=True)\n",
    "                \n",
    "                img4=librosa.display.specshow(spectrogram_scaled, sr=sr)\n",
    "                plt.savefig(os.path.join(output_folder,'spec_{}.png'.format(filename[:-4])),transparent=True)\n",
    "                \n",
    "                plt.close()"
   ]
  },
  {
   "cell_type": "code",
   "execution_count": null,
   "id": "9aaf2ba2",
   "metadata": {},
   "outputs": [],
   "source": [
    "#SpecAugment/Atraining_artifact\n",
    "\n",
    "root_directory='/Users/rishikabethi/Desktop/Heart/Dataset_A/Split-A/Atraining_artifact'\n",
    "output_folder='/Users/rishikabethi/Desktop/Heart/Dataset_A/SpecAugment-A/Atraining_artifact'\n",
    "SpecAugment(root_directory, output_folder)"
   ]
  },
  {
   "cell_type": "code",
   "execution_count": null,
   "id": "b34a6fd1",
   "metadata": {},
   "outputs": [],
   "source": [
    "#SpecAugment/Atraining_extrahls\n",
    "\n",
    "root_directory='/Users/rishikabethi/Desktop/Heart/Dataset_A/Split-A/Atraining_extrahls'\n",
    "output_folder='/Users/rishikabethi/Desktop/Heart/Dataset_A/SpecAugment-A/Atraining_extrahls'\n",
    "SpecAugment(root_directory, output_folder)"
   ]
  },
  {
   "cell_type": "code",
   "execution_count": null,
   "id": "f7f3ae39",
   "metadata": {},
   "outputs": [],
   "source": [
    "#SpecAugment/Atraining_murmur\n",
    "\n",
    "root_directory='/Users/rishikabethi/Desktop/Heart/Dataset_A/Split-A/Atraining_murmur'\n",
    "output_folder='/Users/rishikabethi/Desktop/Heart/Dataset_A/SpecAugment-A/Atraining_murmur'\n",
    "SpecAugment(root_directory, output_folder)"
   ]
  },
  {
   "cell_type": "code",
   "execution_count": null,
   "id": "9c449f94",
   "metadata": {},
   "outputs": [],
   "source": [
    "#SpecAugment/Atraining_normal\n",
    "\n",
    "root_directory='/Users/rishikabethi/Desktop/Heart/Dataset_A/Split-A/Atraining_normal'\n",
    "output_folder='/Users/rishikabethi/Desktop/Heart/Dataset_A/SpecAugment-A/Atraining_normal'\n",
    "SpecAugment(root_directory, output_folder)"
   ]
  },
  {
   "cell_type": "code",
   "execution_count": null,
   "id": "7e47533e",
   "metadata": {},
   "outputs": [],
   "source": [
    "#Spec\n",
    "\n",
    "def Spec(root_directory, output_folder):\n",
    "    # Iterate through subdirectories and files in the root directory\n",
    "    for folder_name, subfolders, filenames in os.walk(root_directory):\n",
    "        # Iterate through audio files in the current folder\n",
    "\n",
    "        for filename in filenames:\n",
    "            if filename.lower().endswith(('.wav')):\n",
    "#                 Construct the full path to the audio file\n",
    "                audio_path = os.path.join(folder_name, filename)\n",
    "                # Load audio file\n",
    "                audio, sr = librosa.load(audio_path, sr=None)\n",
    "                \n",
    "                target_sampling_rate=sr//10\n",
    "                # Compute spectrogram\n",
    "                spectrogram = librosa.feature.melspectrogram(y=audio, sr=target_sampling_rate, n_fft=2048, hop_length=512, n_mels=128)\n",
    "                spectrogram_db = librosa.power_to_db(spectrogram, ref=np.max)\n",
    "                \n",
    "                fig, ax = plt.subplots(figsize=(1.28,1.28))\n",
    "                \n",
    "                img1=librosa.display.specshow(spectrogram_db, sr=sr)\n",
    "                plt.savefig(os.path.join(output_folder,'spec_{}.png'.format(filename[:-4])),transparent=True)\n",
    "                \n",
    "                plt.close()"
   ]
  },
  {
   "cell_type": "code",
   "execution_count": null,
   "id": "8ada79b8",
   "metadata": {},
   "outputs": [],
   "source": [
    "#Spec/Atraining_artifact\n",
    "\n",
    "root_directory='/Users/rishikabethi/Desktop/Heart/Dataset_A/Augmented-A/Atraining_artifact'\n",
    "output_folder='/Users/rishikabethi/Desktop/Heart/Dataset_A/Spec-A/Atraining_artifact'\n",
    "Spec(root_directory, output_folder)"
   ]
  },
  {
   "cell_type": "code",
   "execution_count": null,
   "id": "f4713531",
   "metadata": {},
   "outputs": [],
   "source": [
    "#Spec/Atraining_extrahls\n",
    "\n",
    "root_directory='/Users/rishikabethi/Desktop/Heart/Dataset_A/Augmented-A/Atraining_extrahls'\n",
    "output_folder='/Users/rishikabethi/Desktop/Heart/Dataset_A/Spec-A/Atraining_extrahls'\n",
    "Spec(root_directory, output_folder)"
   ]
  },
  {
   "cell_type": "code",
   "execution_count": null,
   "id": "38c46599",
   "metadata": {},
   "outputs": [],
   "source": [
    "#Spec/Atraining_murmur\n",
    "\n",
    "root_directory='/Users/rishikabethi/Desktop/Heart/Dataset_A/Augmented-A/Atraining_murmur'\n",
    "output_folder='/Users/rishikabethi/Desktop/Heart/Dataset_A/Spec-A/Atraining_murmur'\n",
    "Spec(root_directory, output_folder)"
   ]
  },
  {
   "cell_type": "code",
   "execution_count": null,
   "id": "9bc8a8d7",
   "metadata": {},
   "outputs": [],
   "source": [
    "#Spec/Atraining_normal\n",
    "\n",
    "root_directory='/Users/rishikabethi/Desktop/Heart/Dataset_A/Augmented-A/Atraining_normal'\n",
    "output_folder='/Users/rishikabethi/Desktop/Heart/Dataset_A/Spec-A/Atraining_normal'\n",
    "Spec(root_directory, output_folder)"
   ]
  }
 ],
 "metadata": {
  "kernelspec": {
   "display_name": "Python 3.10 (tensorflow)",
   "language": "python",
   "name": "tensorflow"
  },
  "language_info": {
   "codemirror_mode": {
    "name": "ipython",
    "version": 3
   },
   "file_extension": ".py",
   "mimetype": "text/x-python",
   "name": "python",
   "nbconvert_exporter": "python",
   "pygments_lexer": "ipython3",
   "version": "3.10.10"
  }
 },
 "nbformat": 4,
 "nbformat_minor": 5
}
