{
 "cells": [
  {
   "cell_type": "code",
   "execution_count": 1,
   "id": "e90512ff",
   "metadata": {},
   "outputs": [],
   "source": [
    "import matplotlib\n",
    "matplotlib.use('Agg')\n",
    "import matplotlib.pyplot as plt\n",
    "import numpy as np\n",
    "import librosa\n",
    "import wave\n",
    "import pandas as pd\n",
    "import soundfile as sf\n",
    "import librosa.display\n",
    "from PIL import Image\n",
    "import os\n",
    "import tensorflow as tf\n",
    "import scipy.signal as signal\n",
    "import cv2"
   ]
  },
  {
   "cell_type": "code",
   "execution_count": 2,
   "id": "50704f2d",
   "metadata": {},
   "outputs": [],
   "source": [
    "from PIL import Image\n",
    "spec_data=[]"
   ]
  },
  {
   "cell_type": "code",
   "execution_count": 3,
   "id": "7d965a3d",
   "metadata": {},
   "outputs": [],
   "source": [
    "def data(root_directory,final_class_labels):\n",
    "    for folder_name, subfolders, filenames in os.walk(root_directory):\n",
    "        # Iterate through audio files in the current folder\n",
    "        for filename in filenames:\n",
    "            if filename.lower().endswith(('.png')):\n",
    "#                 Construct the full path to the audio file\n",
    "                audio_path = os.path.join(folder_name, filename)\n",
    "                img=Image.open(audio_path).convert('RGB')\n",
    "                img=img.resize((128,128))\n",
    "                img_array = np.asarray(img)\n",
    "                img_array = img_array / 255\n",
    "                spec_data.append([img_array,final_class_labels])   \n",
    "#                 spec_data.append([img_array.tolist(),final_class_labels])   "
   ]
  },
  {
   "cell_type": "code",
   "execution_count": 4,
   "id": "ab575181",
   "metadata": {},
   "outputs": [],
   "source": [
    "data('/Users/rishikabethi/Desktop/Heart/Dataset_A/Spec-A/Atraining_artifact','artifact')\n",
    "data('/Users/rishikabethi/Desktop/Heart/Dataset_A/SpecAugment-A/Atraining_artifact','artifact')"
   ]
  },
  {
   "cell_type": "code",
   "execution_count": 5,
   "id": "5b2bb4e0",
   "metadata": {},
   "outputs": [],
   "source": [
    "data('/Users/rishikabethi/Desktop/Heart/Dataset_A/Spec-A/Atraining_extrahls','extrahls')\n",
    "data('/Users/rishikabethi/Desktop/Heart/Dataset_A/SpecAugment-A/Atraining_extrahls','extrahls')"
   ]
  },
  {
   "cell_type": "code",
   "execution_count": 6,
   "id": "68273a79",
   "metadata": {},
   "outputs": [],
   "source": [
    "data('/Users/rishikabethi/Desktop/Heart/Dataset_A/Spec-A/Atraining_murmur','murmur')\n",
    "data('/Users/rishikabethi/Desktop/Heart/Dataset_A/SpecAugment-A/Atraining_murmur','murmur')"
   ]
  },
  {
   "cell_type": "code",
   "execution_count": 7,
   "id": "6ff4acfa",
   "metadata": {},
   "outputs": [],
   "source": [
    "data('/Users/rishikabethi/Desktop/Heart/Dataset_A/Spec-A/Atraining_normal','normal')\n",
    "data('/Users/rishikabethi/Desktop/Heart/Dataset_A/SpecAugment-A/Atraining_normal','normal')"
   ]
  },
  {
   "cell_type": "code",
   "execution_count": 8,
   "id": "5a044df0",
   "metadata": {},
   "outputs": [
    {
     "data": {
      "text/html": [
       "<div>\n",
       "<style scoped>\n",
       "    .dataframe tbody tr th:only-of-type {\n",
       "        vertical-align: middle;\n",
       "    }\n",
       "\n",
       "    .dataframe tbody tr th {\n",
       "        vertical-align: top;\n",
       "    }\n",
       "\n",
       "    .dataframe thead th {\n",
       "        text-align: right;\n",
       "    }\n",
       "</style>\n",
       "<table border=\"1\" class=\"dataframe\">\n",
       "  <thead>\n",
       "    <tr style=\"text-align: right;\">\n",
       "      <th></th>\n",
       "      <th>feature</th>\n",
       "      <th>class</th>\n",
       "    </tr>\n",
       "  </thead>\n",
       "  <tbody>\n",
       "    <tr>\n",
       "      <th>0</th>\n",
       "      <td>[[[1.0, 1.0, 1.0], [1.0, 1.0, 1.0], [1.0, 1.0,...</td>\n",
       "      <td>artifact</td>\n",
       "    </tr>\n",
       "    <tr>\n",
       "      <th>1</th>\n",
       "      <td>[[[1.0, 1.0, 1.0], [1.0, 1.0, 1.0], [1.0, 1.0,...</td>\n",
       "      <td>artifact</td>\n",
       "    </tr>\n",
       "    <tr>\n",
       "      <th>2</th>\n",
       "      <td>[[[1.0, 1.0, 1.0], [1.0, 1.0, 1.0], [1.0, 1.0,...</td>\n",
       "      <td>artifact</td>\n",
       "    </tr>\n",
       "    <tr>\n",
       "      <th>3</th>\n",
       "      <td>[[[1.0, 1.0, 1.0], [1.0, 1.0, 1.0], [1.0, 1.0,...</td>\n",
       "      <td>artifact</td>\n",
       "    </tr>\n",
       "    <tr>\n",
       "      <th>4</th>\n",
       "      <td>[[[1.0, 1.0, 1.0], [1.0, 1.0, 1.0], [1.0, 1.0,...</td>\n",
       "      <td>artifact</td>\n",
       "    </tr>\n",
       "  </tbody>\n",
       "</table>\n",
       "</div>"
      ],
      "text/plain": [
       "                                             feature     class\n",
       "0  [[[1.0, 1.0, 1.0], [1.0, 1.0, 1.0], [1.0, 1.0,...  artifact\n",
       "1  [[[1.0, 1.0, 1.0], [1.0, 1.0, 1.0], [1.0, 1.0,...  artifact\n",
       "2  [[[1.0, 1.0, 1.0], [1.0, 1.0, 1.0], [1.0, 1.0,...  artifact\n",
       "3  [[[1.0, 1.0, 1.0], [1.0, 1.0, 1.0], [1.0, 1.0,...  artifact\n",
       "4  [[[1.0, 1.0, 1.0], [1.0, 1.0, 1.0], [1.0, 1.0,...  artifact"
      ]
     },
     "execution_count": 8,
     "metadata": {},
     "output_type": "execute_result"
    }
   ],
   "source": [
    "import pandas as pd\n",
    "spec_data=pd.DataFrame(spec_data,columns=['feature','class'])\n",
    "spec_data.head()"
   ]
  },
  {
   "cell_type": "code",
   "execution_count": 9,
   "id": "b14f3ebb",
   "metadata": {},
   "outputs": [
    {
     "data": {
      "text/plain": [
       "class\n",
       "artifact    720\n",
       "normal      408\n",
       "murmur      396\n",
       "extrahls    222\n",
       "Name: count, dtype: int64"
      ]
     },
     "execution_count": 9,
     "metadata": {},
     "output_type": "execute_result"
    }
   ],
   "source": [
    "spec_data['class'].value_counts()"
   ]
  },
  {
   "cell_type": "code",
   "execution_count": 20,
   "id": "5a34f3c4",
   "metadata": {},
   "outputs": [],
   "source": [
    "X=np.array(spec_data['feature'].tolist())\n",
    "y=np.array(spec_data['class'].tolist())"
   ]
  },
  {
   "cell_type": "code",
   "execution_count": 21,
   "id": "7e6c88e9",
   "metadata": {},
   "outputs": [
    {
     "data": {
      "text/plain": [
       "(1746, 128, 128, 3)"
      ]
     },
     "execution_count": 21,
     "metadata": {},
     "output_type": "execute_result"
    }
   ],
   "source": [
    "X.shape"
   ]
  },
  {
   "cell_type": "code",
   "execution_count": 22,
   "id": "c76ccfc4",
   "metadata": {},
   "outputs": [],
   "source": [
    "#downsampling artifact in dataset-A (drop 50%)\n",
    "\n",
    "import numpy as np\n",
    "\n",
    "# Identify the class label you want to downsample\n",
    "class_label = 'artifact'  # Update with your desired class label\n",
    "\n",
    "# Separate the data into eliminated and remaining subsets\n",
    "eliminated_subset_X = X[y == class_label]\n",
    "eliminated_subset_y = y[y == class_label]\n",
    "remaining_subset_X = X[y != class_label]\n",
    "remaining_subset_y = y[y != class_label]\n",
    "\n",
    "# Randomly select 50% of the data from the remaining subset\n",
    "num_eliminated_samples = len(eliminated_subset_X)\n",
    "num_samples_to_select = int(num_eliminated_samples * 0.5)\n",
    "\n",
    "random_indices = np.random.choice(num_eliminated_samples, size=num_samples_to_select, replace=False)\n",
    "randomly_selected_X = eliminated_subset_X[random_indices]\n",
    "randomly_selected_y = eliminated_subset_y[random_indices]\n",
    "\n",
    "# Combine the eliminated subset and the randomly selected subset\n",
    "downsampled_X = np.concatenate((remaining_subset_X, randomly_selected_X), axis=0)\n",
    "downsampled_y = np.concatenate((remaining_subset_y, randomly_selected_y), axis=0)"
   ]
  },
  {
   "cell_type": "code",
   "execution_count": 23,
   "id": "157c55b0",
   "metadata": {},
   "outputs": [],
   "source": [
    "X=downsampled_X\n",
    "y=np.array(pd.get_dummies(downsampled_y))"
   ]
  },
  {
   "cell_type": "code",
   "execution_count": 24,
   "id": "8d1ca74b",
   "metadata": {},
   "outputs": [],
   "source": [
    "X=np.concatenate((X,X),axis=0)\n",
    "y=np.concatenate((y,y),axis=0)"
   ]
  },
  {
   "cell_type": "code",
   "execution_count": 25,
   "id": "1f8a6be1",
   "metadata": {},
   "outputs": [
    {
     "data": {
      "text/plain": [
       "(2772, 128, 128, 3)"
      ]
     },
     "execution_count": 25,
     "metadata": {},
     "output_type": "execute_result"
    }
   ],
   "source": [
    "X.shape"
   ]
  },
  {
   "cell_type": "code",
   "execution_count": 26,
   "id": "9ae689e5",
   "metadata": {},
   "outputs": [
    {
     "data": {
      "text/plain": [
       "array([False,  True])"
      ]
     },
     "execution_count": 26,
     "metadata": {},
     "output_type": "execute_result"
    }
   ],
   "source": [
    "np.unique(y)"
   ]
  },
  {
   "cell_type": "code",
   "execution_count": 28,
   "id": "ee65f12c",
   "metadata": {},
   "outputs": [
    {
     "data": {
      "text/plain": [
       "array([[False,  True, False, False],\n",
       "       [False,  True, False, False],\n",
       "       [False,  True, False, False],\n",
       "       ...,\n",
       "       [ True, False, False, False],\n",
       "       [ True, False, False, False],\n",
       "       [ True, False, False, False]])"
      ]
     },
     "execution_count": 28,
     "metadata": {},
     "output_type": "execute_result"
    }
   ],
   "source": [
    "y"
   ]
  },
  {
   "cell_type": "code",
   "execution_count": 29,
   "id": "6ce24630",
   "metadata": {},
   "outputs": [],
   "source": [
    "from sklearn.model_selection import train_test_split\n",
    "X_train,X_test,y_train,y_test=train_test_split(X,y,test_size=0.2,random_state=42)"
   ]
  },
  {
   "cell_type": "code",
   "execution_count": 30,
   "id": "7ea05fcc",
   "metadata": {},
   "outputs": [
    {
     "data": {
      "text/plain": [
       "(2217, 128, 128, 3)"
      ]
     },
     "execution_count": 30,
     "metadata": {},
     "output_type": "execute_result"
    }
   ],
   "source": [
    "X_train.shape"
   ]
  },
  {
   "cell_type": "code",
   "execution_count": 31,
   "id": "d994a702",
   "metadata": {},
   "outputs": [],
   "source": [
    "X_train,X_valid,y_train,y_valid=train_test_split(X_train,y_train,test_size=0.15,random_state=42)"
   ]
  },
  {
   "cell_type": "code",
   "execution_count": 32,
   "id": "8ab2f2d1",
   "metadata": {},
   "outputs": [
    {
     "data": {
      "text/plain": [
       "(1884, 128, 128, 3)"
      ]
     },
     "execution_count": 32,
     "metadata": {},
     "output_type": "execute_result"
    }
   ],
   "source": [
    "X_train.shape"
   ]
  },
  {
   "cell_type": "code",
   "execution_count": 33,
   "id": "33a5cd32",
   "metadata": {},
   "outputs": [
    {
     "data": {
      "text/plain": [
       "(333, 128, 128, 3)"
      ]
     },
     "execution_count": 33,
     "metadata": {},
     "output_type": "execute_result"
    }
   ],
   "source": [
    "X_valid.shape"
   ]
  },
  {
   "cell_type": "code",
   "execution_count": 34,
   "id": "1fc22f0f",
   "metadata": {},
   "outputs": [
    {
     "data": {
      "text/plain": [
       "(555, 128, 128, 3)"
      ]
     },
     "execution_count": 34,
     "metadata": {},
     "output_type": "execute_result"
    }
   ],
   "source": [
    "X_test.shape"
   ]
  },
  {
   "cell_type": "code",
   "execution_count": 35,
   "id": "90973dad",
   "metadata": {},
   "outputs": [],
   "source": [
    "import tensorflow as tf\n",
    "from tensorflow.keras.layers import Input, LSTM, Dense, Conv2D,MaxPooling2D\n",
    "from tensorflow.keras.models import Model, Sequential\n",
    "from tensorflow.keras.callbacks import ModelCheckpoint\n",
    "from tensorflow.keras import layers\n",
    "from tensorflow.keras.layers import Conv2D, Flatten, Dense, Dropout, MaxPooling2D, GlobalAveragePooling2D, BatchNormalization"
   ]
  },
  {
   "cell_type": "code",
   "execution_count": 36,
   "id": "7ea3b5fc",
   "metadata": {},
   "outputs": [
    {
     "name": "stdout",
     "output_type": "stream",
     "text": [
      "Metal device set to: Apple M1\n",
      "Downloading data from https://storage.googleapis.com/tensorflow/keras-applications/mobilenet_v2/mobilenet_v2_weights_tf_dim_ordering_tf_kernels_1.0_128_no_top.h5\n",
      "9406464/9406464 [==============================] - 3s 0us/step\n",
      "Model: \"sequential\"\n",
      "_________________________________________________________________\n",
      " Layer (type)                Output Shape              Param #   \n",
      "=================================================================\n",
      " mobilenetv2_1.00_128 (Funct  (None, 4, 4, 1280)       2257984   \n",
      " ional)                                                          \n",
      "                                                                 \n",
      " flatten (Flatten)           (None, 20480)             0         \n",
      "                                                                 \n",
      " dense (Dense)               (None, 64)                1310784   \n",
      "                                                                 \n",
      " dropout (Dropout)           (None, 64)                0         \n",
      "                                                                 \n",
      " dense_1 (Dense)             (None, 4)                 260       \n",
      "                                                                 \n",
      "=================================================================\n",
      "Total params: 3,569,028\n",
      "Trainable params: 1,311,044\n",
      "Non-trainable params: 2,257,984\n",
      "_________________________________________________________________\n"
     ]
    }
   ],
   "source": [
    "from tensorflow import keras\n",
    "base_model=keras.applications.MobileNetV2(\n",
    "    input_shape=(128,128,3),\n",
    "    include_top=False,\n",
    "    weights='imagenet'\n",
    ")\n",
    "\n",
    "base_model.trainable = False\n",
    "\n",
    "model_1 = keras.Sequential([\n",
    "    base_model,\n",
    "    keras.layers.Flatten(),\n",
    "    keras.layers.Dense(64, activation='relu'),\n",
    "    keras.layers.Dropout(0.2),\n",
    "    keras.layers.Dense(4, activation='softmax')\n",
    "])\n",
    "\n",
    "model_1.summary()"
   ]
  },
  {
   "cell_type": "code",
   "execution_count": 37,
   "id": "13e266ae",
   "metadata": {},
   "outputs": [
    {
     "data": {
      "text/plain": [
       "(1884, 128, 128, 3)"
      ]
     },
     "execution_count": 37,
     "metadata": {},
     "output_type": "execute_result"
    }
   ],
   "source": [
    "X_train.shape"
   ]
  },
  {
   "cell_type": "code",
   "execution_count": 38,
   "id": "2e144388",
   "metadata": {},
   "outputs": [],
   "source": [
    "model_1.compile(loss='categorical_crossentropy', optimizer='adam', metrics=['accuracy'])"
   ]
  },
  {
   "cell_type": "code",
   "execution_count": 39,
   "id": "a8a98302",
   "metadata": {
    "scrolled": true
   },
   "outputs": [
    {
     "name": "stdout",
     "output_type": "stream",
     "text": [
      "Epoch 1/40\n"
     ]
    },
    {
     "name": "stderr",
     "output_type": "stream",
     "text": [
      "2023-07-12 11:31:05.723846: W tensorflow/tsl/platform/profile_utils/cpu_utils.cc:128] Failed to get CPU frequency: 0 Hz\n"
     ]
    },
    {
     "name": "stdout",
     "output_type": "stream",
     "text": [
      "59/59 [==============================] - 13s 144ms/step - loss: 1.2792 - accuracy: 0.6555 - val_loss: 0.4548 - val_accuracy: 0.8138\n",
      "Epoch 2/40\n",
      "59/59 [==============================] - 6s 98ms/step - loss: 0.4738 - accuracy: 0.8148 - val_loss: 0.3353 - val_accuracy: 0.8709\n",
      "Epoch 3/40\n",
      "59/59 [==============================] - 6s 104ms/step - loss: 0.3938 - accuracy: 0.8450 - val_loss: 0.2887 - val_accuracy: 0.9039\n",
      "Epoch 4/40\n",
      "59/59 [==============================] - 6s 108ms/step - loss: 0.2908 - accuracy: 0.8880 - val_loss: 0.2209 - val_accuracy: 0.9129\n",
      "Epoch 5/40\n",
      "59/59 [==============================] - 6s 100ms/step - loss: 0.2563 - accuracy: 0.8917 - val_loss: 0.1933 - val_accuracy: 0.9159\n",
      "Epoch 6/40\n",
      "59/59 [==============================] - 6s 107ms/step - loss: 0.2264 - accuracy: 0.9050 - val_loss: 0.2110 - val_accuracy: 0.9069\n",
      "Epoch 7/40\n",
      "59/59 [==============================] - 6s 104ms/step - loss: 0.2005 - accuracy: 0.9130 - val_loss: 0.2146 - val_accuracy: 0.9069\n",
      "Epoch 8/40\n",
      "59/59 [==============================] - 6s 104ms/step - loss: 0.1884 - accuracy: 0.9177 - val_loss: 0.1331 - val_accuracy: 0.9369\n",
      "Epoch 9/40\n",
      "59/59 [==============================] - 8s 127ms/step - loss: 0.1822 - accuracy: 0.9209 - val_loss: 0.1406 - val_accuracy: 0.9399\n",
      "Epoch 10/40\n",
      "59/59 [==============================] - 6s 104ms/step - loss: 0.1514 - accuracy: 0.9379 - val_loss: 0.1017 - val_accuracy: 0.9550\n",
      "Epoch 11/40\n",
      "59/59 [==============================] - 6s 103ms/step - loss: 0.1489 - accuracy: 0.9278 - val_loss: 0.1228 - val_accuracy: 0.9429\n",
      "Epoch 12/40\n",
      "59/59 [==============================] - 6s 99ms/step - loss: 0.1523 - accuracy: 0.9342 - val_loss: 0.2405 - val_accuracy: 0.9069\n",
      "Epoch 13/40\n",
      "59/59 [==============================] - 6s 108ms/step - loss: 0.1501 - accuracy: 0.9374 - val_loss: 0.0955 - val_accuracy: 0.9670\n",
      "Epoch 14/40\n",
      "59/59 [==============================] - 6s 106ms/step - loss: 0.1155 - accuracy: 0.9517 - val_loss: 0.1259 - val_accuracy: 0.9580\n",
      "Epoch 15/40\n",
      "59/59 [==============================] - 6s 108ms/step - loss: 0.1320 - accuracy: 0.9475 - val_loss: 0.1055 - val_accuracy: 0.9640\n",
      "Epoch 16/40\n",
      "59/59 [==============================] - 6s 103ms/step - loss: 0.1394 - accuracy: 0.9427 - val_loss: 0.1186 - val_accuracy: 0.9520\n",
      "Epoch 17/40\n",
      "59/59 [==============================] - 6s 110ms/step - loss: 0.1030 - accuracy: 0.9538 - val_loss: 0.1031 - val_accuracy: 0.9640\n",
      "Epoch 18/40\n",
      "59/59 [==============================] - 6s 108ms/step - loss: 0.1185 - accuracy: 0.9496 - val_loss: 0.1442 - val_accuracy: 0.9399\n",
      "Epoch 19/40\n",
      "59/59 [==============================] - 6s 105ms/step - loss: 0.1106 - accuracy: 0.9581 - val_loss: 0.1440 - val_accuracy: 0.9550\n",
      "Epoch 20/40\n",
      "59/59 [==============================] - 7s 111ms/step - loss: 0.0910 - accuracy: 0.9682 - val_loss: 0.0705 - val_accuracy: 0.9670\n",
      "Epoch 21/40\n",
      "59/59 [==============================] - 6s 103ms/step - loss: 0.0766 - accuracy: 0.9719 - val_loss: 0.1098 - val_accuracy: 0.9640\n",
      "Epoch 22/40\n",
      "59/59 [==============================] - 6s 98ms/step - loss: 0.0574 - accuracy: 0.9820 - val_loss: 0.1558 - val_accuracy: 0.9520\n",
      "Epoch 23/40\n",
      "59/59 [==============================] - 6s 94ms/step - loss: 0.0726 - accuracy: 0.9708 - val_loss: 0.0790 - val_accuracy: 0.9700\n",
      "Epoch 24/40\n",
      "59/59 [==============================] - 5s 89ms/step - loss: 0.0940 - accuracy: 0.9650 - val_loss: 0.0857 - val_accuracy: 0.9670\n",
      "Epoch 25/40\n",
      "59/59 [==============================] - 6s 97ms/step - loss: 0.0669 - accuracy: 0.9724 - val_loss: 0.1384 - val_accuracy: 0.9489\n",
      "Epoch 26/40\n",
      "59/59 [==============================] - 5s 91ms/step - loss: 0.0774 - accuracy: 0.9671 - val_loss: 0.1245 - val_accuracy: 0.9610\n",
      "Epoch 27/40\n",
      "59/59 [==============================] - 6s 95ms/step - loss: 0.0630 - accuracy: 0.9729 - val_loss: 0.0621 - val_accuracy: 0.9790\n",
      "Epoch 28/40\n",
      "59/59 [==============================] - 6s 105ms/step - loss: 0.0607 - accuracy: 0.9756 - val_loss: 0.0667 - val_accuracy: 0.9790\n",
      "Epoch 29/40\n",
      "59/59 [==============================] - 5s 91ms/step - loss: 0.0633 - accuracy: 0.9766 - val_loss: 0.0717 - val_accuracy: 0.9730\n",
      "Epoch 30/40\n",
      "59/59 [==============================] - 6s 96ms/step - loss: 0.0578 - accuracy: 0.9782 - val_loss: 0.0509 - val_accuracy: 0.9790\n",
      "Epoch 31/40\n",
      "59/59 [==============================] - 6s 94ms/step - loss: 0.0515 - accuracy: 0.9809 - val_loss: 0.1022 - val_accuracy: 0.9730\n",
      "Epoch 32/40\n",
      "59/59 [==============================] - 6s 94ms/step - loss: 0.0483 - accuracy: 0.9841 - val_loss: 0.0755 - val_accuracy: 0.9790\n",
      "Epoch 33/40\n",
      "59/59 [==============================] - 6s 97ms/step - loss: 0.0407 - accuracy: 0.9873 - val_loss: 0.1674 - val_accuracy: 0.9580\n",
      "Epoch 34/40\n",
      "59/59 [==============================] - 5s 91ms/step - loss: 0.0535 - accuracy: 0.9751 - val_loss: 0.1003 - val_accuracy: 0.9700\n",
      "Epoch 35/40\n",
      "59/59 [==============================] - 5s 92ms/step - loss: 0.0421 - accuracy: 0.9825 - val_loss: 0.1290 - val_accuracy: 0.9670\n",
      "Epoch 36/40\n",
      "59/59 [==============================] - 6s 99ms/step - loss: 0.0468 - accuracy: 0.9883 - val_loss: 0.0785 - val_accuracy: 0.9760\n",
      "Epoch 37/40\n",
      "59/59 [==============================] - 5s 91ms/step - loss: 0.0531 - accuracy: 0.9804 - val_loss: 0.1083 - val_accuracy: 0.9670\n",
      "Epoch 38/40\n",
      "59/59 [==============================] - 5s 93ms/step - loss: 0.0736 - accuracy: 0.9655 - val_loss: 0.1064 - val_accuracy: 0.9580\n",
      "Epoch 39/40\n",
      "59/59 [==============================] - 6s 99ms/step - loss: 0.0514 - accuracy: 0.9804 - val_loss: 0.0767 - val_accuracy: 0.9760\n",
      "Epoch 40/40\n",
      "59/59 [==============================] - 5s 92ms/step - loss: 0.0591 - accuracy: 0.9788 - val_loss: 0.0771 - val_accuracy: 0.9790\n"
     ]
    }
   ],
   "source": [
    "checkpoint = ModelCheckpoint('heart_spect_mobilenet_aug_actual.hdf5', save_best_only=True, save_weights_only=False, monitor='val_accuracy', mode='max')\n",
    "history = model_1.fit(X_train, y_train, epochs=40, batch_size=32, validation_data=(X_valid,y_valid), callbacks=[checkpoint])"
   ]
  },
  {
   "cell_type": "code",
   "execution_count": 40,
   "id": "25759f91",
   "metadata": {},
   "outputs": [
    {
     "name": "stdout",
     "output_type": "stream",
     "text": [
      "18/18 [==============================] - 2s 131ms/step - loss: 0.0899 - accuracy: 0.9712\n",
      "0.9711712002754211\n"
     ]
    }
   ],
   "source": [
    "test_accuracy=model_1.evaluate(X_test,y_test)\n",
    "print(test_accuracy[1])"
   ]
  },
  {
   "cell_type": "code",
   "execution_count": 42,
   "id": "f1702a05",
   "metadata": {},
   "outputs": [
    {
     "name": "stdout",
     "output_type": "stream",
     "text": [
      "18/18 [==============================] - 2s 78ms/step\n"
     ]
    }
   ],
   "source": [
    "y_pred=model_1.predict(X_test)"
   ]
  },
  {
   "cell_type": "code",
   "execution_count": 43,
   "id": "29085a7d",
   "metadata": {},
   "outputs": [
    {
     "data": {
      "text/plain": [
       "0.9711712"
      ]
     },
     "execution_count": 43,
     "metadata": {},
     "output_type": "execute_result"
    }
   ],
   "source": [
    "c_acc = tf.keras.metrics.CategoricalAccuracy()\n",
    "c_acc.update_state(y_test,y_pred)\n",
    "c_acc.result().numpy()"
   ]
  },
  {
   "cell_type": "code",
   "execution_count": 44,
   "id": "af2f4770",
   "metadata": {},
   "outputs": [
    {
     "data": {
      "text/plain": [
       "0.9965928"
      ]
     },
     "execution_count": 44,
     "metadata": {},
     "output_type": "execute_result"
    }
   ],
   "source": [
    "auc = tf.keras.metrics.AUC()\n",
    "auc.update_state(y_test,y_pred)\n",
    "auc.result().numpy()"
   ]
  },
  {
   "cell_type": "code",
   "execution_count": 45,
   "id": "5dfd7d94",
   "metadata": {},
   "outputs": [
    {
     "data": {
      "text/plain": [
       "0.9711712"
      ]
     },
     "execution_count": 45,
     "metadata": {},
     "output_type": "execute_result"
    }
   ],
   "source": [
    "recall = tf.keras.metrics.Recall()\n",
    "recall.update_state(y_test,y_pred)\n",
    "recall.result().numpy()"
   ]
  },
  {
   "cell_type": "code",
   "execution_count": 46,
   "id": "f719f84f",
   "metadata": {},
   "outputs": [
    {
     "data": {
      "text/plain": [
       "0.9711712"
      ]
     },
     "execution_count": 46,
     "metadata": {},
     "output_type": "execute_result"
    }
   ],
   "source": [
    "precision = tf.keras.metrics.Precision()\n",
    "precision.update_state(y_test,y_pred)\n",
    "precision.result().numpy()"
   ]
  }
 ],
 "metadata": {
  "kernelspec": {
   "display_name": "Python 3 (ipykernel)",
   "language": "python",
   "name": "python3"
  },
  "language_info": {
   "codemirror_mode": {
    "name": "ipython",
    "version": 3
   },
   "file_extension": ".py",
   "mimetype": "text/x-python",
   "name": "python",
   "nbconvert_exporter": "python",
   "pygments_lexer": "ipython3",
   "version": "3.10.10"
  }
 },
 "nbformat": 4,
 "nbformat_minor": 5
}
